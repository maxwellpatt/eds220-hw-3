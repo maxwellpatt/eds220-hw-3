{
 "cells": [
  {
   "cell_type": "markdown",
   "metadata": {},
   "source": [
    "# Task 1  \n",
    "\n",
    "## General instructions\n",
    "\n",
    "First, update the following text to have a link to your Homework 3 GitHub repository:\n",
    "\n",
    "**UPDATE THIS LINK**\n",
    "https://github.com/maxwellpatt/eds220-hwk-3\n",
    "\n",
    "Link updated\n",
    "\n",
    "Add comments for all your code and commit as needed. Err on the side of commenting and commiting too much for now. Points will be deducted for insufficient comments.\n",
    "\n",
    "\n",
    "## About the data\n",
    "In this task you will use two datsets:\n",
    "\n",
    "**First dataset**\n",
    "\n",
    "The first dataset contains information about [spilling incidents in the state of New York](https://data.ny.gov/Energy-Environment/Spill-Incidents/u44d-k5fk). \n",
    "The data portal has plenty of information. \n",
    "You will find extra information and metadata for this datset in the 'NYSDEC_SpillIncidents_Overview.pdf' and 'NYSDEC_SpillIncidents_DataDictionary.pdf' documents available at the portal.\n",
    "\n",
    "You can access this datset via its URL or download it as a csv. \n",
    "If you chose to access it via URL, it will take a while to load every time you import it. \n",
    "\n",
    "**Second dataset**\n",
    "\n",
    "The second dataset is a [TIGER shapefile from the United States Census Bureau](https://www.census.gov/geographies/mapping-files/time-series/geo/tiger-line-file.2022.html#list-tab-790442341). \n",
    "For this task you will need to **download the 2022 counties (and equivalent) TIGER shapefile**. \n",
    "You can check the [metadata for all the TIGER shapefiles here](https://www.census.gov/programs-surveys/geography/technical-documentation/complete-technical-documentation/tiger-geo-line.html). \n",
    "\n",
    "\n",
    "\n",
    "## File management\n",
    "Make sure all your data files are inside a directory named 'data' inside your repository's directory (working directory)."
   ]
  },
  {
   "cell_type": "markdown",
   "metadata": {},
   "source": [
    "## Datasets description\n",
    "Read the metadata for both datsets and write a brief description about each once. Indicate the date sources and date of access.\n"
   ]
  },
  {
   "cell_type": "markdown",
   "metadata": {},
   "source": [
    "The first dataset we are working with contains information on petrolium (and other hazardous materials) spill occurrences in the state of New York. Spills contaminate land and water and are very harmful to the environment. Columns in the data include program facility name, spill date/time, location, spill source and cause, material(s) and material type spilled, quantity spilled and recovered, units measured, surface water bodies affected, and close date (cleanup activity finished and all paperwork completed). Data is provided by the New York State Department of Environmental Conservation and is updated daily. Accessed November 8, 2023.\n",
    "\n",
    "The second dataset is the TIGER data from the United States Cencus government website. The data provides accessible data on boundary lines on many level, including state and cencus tracts. Accessed November 8, 2023."
   ]
  },
  {
   "cell_type": "markdown",
   "metadata": {},
   "source": [
    "## FINAL CODE\n",
    "\n",
    "You will use the next cell at the end of the task. Leave it blank for now. "
   ]
  },
  {
   "cell_type": "code",
   "execution_count": null,
   "metadata": {},
   "outputs": [],
   "source": [
    "### IMPORT LIBRARIES\n",
    "import numpy as np\n",
    "import os\n",
    "import pandas as pd\n",
    "import geopandas as gpd\n",
    "import matplotlib.pyplot as plt\n",
    "from shapely.geometry import box\n",
    "\n",
    "### IMPORT DATA\n",
    "# import NY spills data using pandas\n",
    "spills = pd.read_csv('data/Spill_Incidents_20231107.csv')\n",
    "\n",
    "# import US counties shapefile using geopandas\n",
    "counties = gpd.read_file('data/tl_2022/tl_2022_us_county.shp')\n",
    "\n",
    "### PREPARE SPILLS DATA\n",
    "# convert columns to snake case\n",
    "spills.columns = spills.columns.str.lower().str.replace(' ','_')\n",
    "\n",
    "# filter for petroleum spills from 01-01-23 to 10-31-23 and convert date to a datetime\n",
    "petr_23 = spills[(spills['material_family'] == 'Petroleum') &\n",
    "                 (pd.to_datetime(spills['spill_date']) >= '2023-01-01') & \n",
    "                 (pd.to_datetime(spills['spill_date']) <= '2023-10-31')]\n",
    "\n",
    "# convert spill_date to a dt\n",
    "petr_23['spill_date'] = pd.to_datetime(petr_23['spill_date'])\n",
    "\n",
    "# group petr_23 by county and get the number of spills for each, reset index\n",
    "spills_per_county = petr_23.groupby('county').size().reset_index()\n",
    "\n",
    "### PREPARE COUNTIES DATA\n",
    "# convert column names to snakecase\n",
    "counties.columns = counties.columns.str.lower().str.replace(' ','_')\n",
    "\n",
    "# filter for New York counties using the FIPS code\n",
    "ny_counties = counties[counties['statefp'] == '36']\n",
    "\n",
    "# we can get the index of that single row like this, to access the actual row index...\n",
    "spills_per_county[spills_per_county.county=='St Lawrence'].index\n",
    "\n",
    "# we need to select the first item in that tuple using [0]\n",
    "st_lawrence_index = spills_per_county[spills_per_county.county=='St Lawrence'].index[0]\n",
    "\n",
    "# update county column at st_lawrence_index to 'St. Lawrence'\n",
    "spills_per_county.at[st_lawrence_index, 'county'] = 'St. Lawrence'\n",
    "\n",
    "### MERGE\n",
    "# remove 'Yates' from ny_counties since it is not in spills_per_country\n",
    "ny_counties = ny_counties[ny_counties['name'] != 'Yates']\n",
    "\n",
    "# remove 'New Jersey - Region 2' from spills_per_county\n",
    "spills_per_county = spills_per_county[spills_per_county['county'] != 'New Jersey - Region 2']\n",
    "\n",
    "# rename the columns of the new df\n",
    "spills_per_county.columns = ['county', 'n_spills']\n",
    "\n",
    "# perform inner join of datasets\n",
    "ny_counties = gpd.GeoDataFrame(ny_counties.merge(spills_per_county, how='inner', left_on='name', right_on='county'))\n",
    "\n",
    "# find index of Niagara county\n",
    "niagara_index = ny_counties[ny_counties['name'] == 'Niagara'].index[0]\n",
    "\n",
    "# add one spill to n_spills for Niagara county\n",
    "ny_counties.at[niagara_index, 'n_spills'] += 1\n",
    "\n",
    "### MAP\n",
    "# set map\n",
    "fig, ax = plt.subplots(figsize =(12,8))\n",
    "\n",
    "# plot the number of spills by county\n",
    "ny_counties.plot(ax=ax,\n",
    "                 column='n_spills',   \n",
    "                 cmap='OrRd',         \n",
    "                 legend=True,        \n",
    "                 edgecolor='0.7')     \n",
    "\n",
    "# turn axis off\n",
    "ax.axis('off')\n",
    "\n",
    "# set title \n",
    "ax.set_title('Petroleum Spills per County in New York State (2023)', fontdict={'fontsize': '16', 'fontweight' : '3'})\n",
    "\n",
    "# add data source\n",
    "ax.annotate('Data source: New York State Department of Environmental Conservation\\nDate of access: 10/08/23',\n",
    "            xy=(0.1, .18), xycoords='figure fraction', horizontalalignment='left',\n",
    "            fontsize=7, color='#555555')\n",
    "\n",
    "# add Tuscarora Indian Reservation annotation\n",
    "ax.annotate('One additional spill occurred in\\nTuscarora Indian Reservation within Niagara County',\n",
    "            xy=(0.1, .23), xycoords='figure fraction', horizontalalignment='left',\n",
    "            fontsize=7, color='red')\n",
    "\n",
    "# show map\n",
    "plt.show()\n"
   ]
  },
  {
   "cell_type": "markdown",
   "metadata": {},
   "source": [
    "<!-- write your description in this markdwon cell -->"
   ]
  },
  {
   "cell_type": "markdown",
   "metadata": {},
   "source": [
    "## Import libraries"
   ]
  },
  {
   "cell_type": "code",
   "execution_count": 2,
   "metadata": {
    "tags": []
   },
   "outputs": [
    {
     "name": "stdout",
     "output_type": "stream",
     "text": [
      "Libraries imported!\n"
     ]
    }
   ],
   "source": [
    "# import libraries\n",
    "import numpy as np\n",
    "import os\n",
    "import pandas as pd\n",
    "import geopandas as gpd\n",
    "import matplotlib.pyplot as plt\n",
    "from shapely.geometry import box\n",
    "print(\"Libraries imported!\")"
   ]
  },
  {
   "cell_type": "markdown",
   "metadata": {},
   "source": [
    "## Import data \n",
    "In the next cell:\n",
    "\n",
    "- Import the NY spills data as a variable named `spills`. \n",
    "- Import the US counties shapefile as a variable named `counties`.\n"
   ]
  },
  {
   "cell_type": "code",
   "execution_count": 3,
   "metadata": {
    "tags": []
   },
   "outputs": [
    {
     "name": "stdout",
     "output_type": "stream",
     "text": [
      "Data read in successfully!\n"
     ]
    }
   ],
   "source": [
    "# import NY spills data using pandas\n",
    "spills = pd.read_csv('data/Spill_Incidents_20231107.csv')\n",
    "\n",
    "# import US counties shapefile using geopandas\n",
    "counties = gpd.read_file('data/tl_2022/tl_2022_us_county.shp')\n",
    "print(\"Data read in successfully!\")\n"
   ]
  },
  {
   "cell_type": "markdown",
   "metadata": {},
   "source": [
    "## Prepare spills data\n",
    "\n",
    "This section refers to the `spills` dataframe. \n",
    "Check the outputs carefully, they will give you context about the next exercises.\n",
    "\n",
    "### Exploration\n",
    "\n",
    "In the next cells:\n",
    "\n",
    "1. Check the dataframe's head\n",
    "2. Simplify column names as needed\n",
    "3. Check the data types of the columns\n",
    "4. Check the unique values in the `material_family` column\n",
    "5. Check the unique values in the `county` column\n",
    "\n",
    "You can add any other cells of preliminary data exploration."
   ]
  },
  {
   "cell_type": "code",
   "execution_count": 4,
   "metadata": {
    "tags": []
   },
   "outputs": [
    {
     "name": "stdout",
     "output_type": "stream",
     "text": [
      "Spills head:\n",
      "    Spill Number Program Facility Name                  Street 1 Street 2  \\\n",
      "0        107132                MH 864        RT 119/MILLWOOD RD      NaN   \n",
      "1        405586             BOWRY BAY        WATER POLL CONTROL      NaN   \n",
      "2        405586             BOWRY BAY        WATER POLL CONTROL      NaN   \n",
      "3        204667            POLE 16091       GRACE AVE/BURKE AVE      NaN   \n",
      "4        210559               POLE ON  FERDALE LOMIS RD / RT 52      NaN   \n",
      "\n",
      "   Locality       County ZIP Code  SWIS Code  DEC Region  Spill Date  \\\n",
      "0  ELMSFORD  Westchester      NaN     6000.0         3.0  10/10/2001   \n",
      "1    QUEENS       Queens      NaN     4101.0         2.0  08/21/2004   \n",
      "2    QUEENS       Queens      NaN     4101.0         2.0  08/21/2004   \n",
      "3     BRONX        Bronx      NaN      301.0         2.0  08/02/2002   \n",
      "4   LIBERTY     Sullivan      NaN     5336.0         3.0  01/20/2003   \n",
      "\n",
      "  Received Date Contributing Factor   Waterbody                 Source  \\\n",
      "0    10/10/2001             Unknown         NaN                Unknown   \n",
      "1    08/21/2004               Other  EAST RIVER                Unknown   \n",
      "2    08/21/2004               Other  EAST RIVER                Unknown   \n",
      "3    08/02/2002   Equipment Failure         NaN  Commercial/Industrial   \n",
      "4    01/20/2003    Traffic Accident         NaN  Commercial/Industrial   \n",
      "\n",
      "   Close Date     Material Name Material Family  Quantity    Units  Recovered  \n",
      "0  10/15/2001  unknown material           Other      10.0  Gallons        0.0  \n",
      "1  09/17/2004        raw sewage           Other       0.0   Pounds        0.0  \n",
      "2  09/17/2004        raw sewage           Other       0.0      NaN        0.0  \n",
      "3  10/28/2002   transformer oil       Petroleum       1.0  Gallons        0.0  \n",
      "4  01/22/2003   transformer oil       Petroleum       6.0  Gallons        6.0  \n"
     ]
    }
   ],
   "source": [
    "# check the head of spills using head function\n",
    "print(\"Spills head:\\n\", spills.head(5))\n"
   ]
  },
  {
   "cell_type": "code",
   "execution_count": 5,
   "metadata": {
    "tags": []
   },
   "outputs": [
    {
     "name": "stdout",
     "output_type": "stream",
     "text": [
      "Column names:\n",
      " Index(['spill_number', 'program_facility_name', 'street_1', 'street_2',\n",
      "       'locality', 'county', 'zip_code', 'swis_code', 'dec_region',\n",
      "       'spill_date', 'received_date', 'contributing_factor', 'waterbody',\n",
      "       'source', 'close_date', 'material_name', 'material_family', 'quantity',\n",
      "       'units', 'recovered'],\n",
      "      dtype='object')\n"
     ]
    }
   ],
   "source": [
    "# convert columns to snake case\n",
    "spills.columns = spills.columns.str.lower().str.replace(' ','_')\n",
    "\n",
    "print(\"Column names:\\n\", spills.columns)"
   ]
  },
  {
   "cell_type": "code",
   "execution_count": 66,
   "metadata": {
    "tags": []
   },
   "outputs": [
    {
     "name": "stdout",
     "output_type": "stream",
     "text": [
      "Data types of each column:\n",
      " spill_number               int64\n",
      "program_facility_name     object\n",
      "street_1                  object\n",
      "street_2                  object\n",
      "locality                  object\n",
      "county                    object\n",
      "zip_code                  object\n",
      "swis_code                float64\n",
      "dec_region               float64\n",
      "spill_date                object\n",
      "received_date             object\n",
      "contributing_factor       object\n",
      "waterbody                 object\n",
      "source                    object\n",
      "close_date                object\n",
      "material_name             object\n",
      "material_family           object\n",
      "quantity                 float64\n",
      "units                     object\n",
      "recovered                float64\n",
      "dtype: object\n"
     ]
    }
   ],
   "source": [
    "# display the data types of each column\n",
    "print(\"Data types of each column:\\n\", spills.dtypes)"
   ]
  },
  {
   "cell_type": "code",
   "execution_count": 6,
   "metadata": {
    "tags": []
   },
   "outputs": [
    {
     "name": "stdout",
     "output_type": "stream",
     "text": [
      "Unique values in the material_family column:\n",
      " ['Other' 'Petroleum' 'Hazardous Material' 'Oxygenates' nan]\n"
     ]
    }
   ],
   "source": [
    "# display the unique values in the material_family column \n",
    "mf_unique = spills['material_family'].unique()\n",
    "print(\"Unique values in the material_family column:\\n\", mf_unique)"
   ]
  },
  {
   "cell_type": "code",
   "execution_count": 7,
   "metadata": {
    "tags": []
   },
   "outputs": [
    {
     "name": "stdout",
     "output_type": "stream",
     "text": [
      "Unique values in the county column:\n",
      " ['Westchester' 'Queens' 'Bronx' 'Sullivan' 'Cortland' 'New York' 'Ulster'\n",
      " 'Kings' 'Orange' 'Dutchess' 'Onondaga' 'Saratoga' 'Cayuga' 'Oswego'\n",
      " 'Warren' 'Niagara' 'Rockland' 'Nassau' 'Jefferson' 'Schenectady' 'Albany'\n",
      " 'Monroe' 'St Lawrence' 'Richmond' 'Clinton' 'Lewis' 'Essex' 'Chenango'\n",
      " 'Erie' 'Livingston' 'Wayne' 'Suffolk' 'Orleans' 'Ontario' 'Genesee'\n",
      " 'Otsego' 'Tompkins' 'Madison' 'Chemung' 'Seneca' 'Oneida' 'Broome'\n",
      " 'Hamilton' 'Washington' 'Schuyler' 'Franklin' 'Columbia' 'Fulton'\n",
      " 'Herkimer' 'Schoharie' 'Rensselaer' 'Montgomery' 'Putnam' 'Delaware'\n",
      " 'New Jersey - Region 2' 'Steuben' 'Tioga' 'Chautauqua' 'Cattaraugus'\n",
      " 'Wyoming' 'Yates' 'Greene' 'Pennsylvania - Region 9' 'Allegany'\n",
      " 'New Jersey - Region 3 (N)' 'Cattaraugus Indian Reservation'\n",
      " 'New Jersey - Region 3 (T)' nan]\n"
     ]
    }
   ],
   "source": [
    "# display the unique values in the county column\n",
    "county_unique = spills['county'].unique()\n",
    "print(\"Unique values in the county column:\\n\", county_unique)"
   ]
  },
  {
   "cell_type": "markdown",
   "metadata": {},
   "source": [
    "### Data selection\n",
    "\n",
    "1. Select data about petroleum spills that took place between January 1st 2023, and October 31st (including both dates), 2023. Store it in a variable named `petr_23`. The data selection should occur in a single line. You may add cells if you needed."
   ]
  },
  {
   "cell_type": "code",
   "execution_count": 8,
   "metadata": {
    "tags": []
   },
   "outputs": [],
   "source": [
    "# filter for petroleum spills from 01-01-23 to 10-31-23 and convert date to a datetime\n",
    "petr_23 = spills[(spills['material_family'] == 'Petroleum') &\n",
    "                 (pd.to_datetime(spills['spill_date']) >= '2023-01-01') & \n",
    "                 (pd.to_datetime(spills['spill_date']) <= '2023-10-31')]"
   ]
  },
  {
   "cell_type": "markdown",
   "metadata": {},
   "source": [
    "2. Verify that `petr_23` only has data for petroleum spills "
   ]
  },
  {
   "cell_type": "code",
   "execution_count": 9,
   "metadata": {
    "tags": []
   },
   "outputs": [
    {
     "name": "stdout",
     "output_type": "stream",
     "text": [
      "Petroleum is the only material family: [ True]\n"
     ]
    }
   ],
   "source": [
    "# check if Petroleum is the only unique value in the material_family column\n",
    "only_petroleum = (petr_23['material_family'].unique() == ['Petroleum'])\n",
    "\n",
    "# dispaly if Petroleum is the only unique vaue in the material_family column as a boolean\n",
    "print(\"Petroleum is the only material family:\", only_petroleum)\n"
   ]
  },
  {
   "cell_type": "markdown",
   "metadata": {},
   "source": [
    "3. Verify that `petr_23` only has data for 2023. \n",
    "HINT: if you converted the `spill_date` column to datetime, you can use `petr_23.spill_date.dt.year.unique()`"
   ]
  },
  {
   "cell_type": "code",
   "execution_count": 10,
   "metadata": {
    "tags": []
   },
   "outputs": [
    {
     "name": "stdout",
     "output_type": "stream",
     "text": [
      "All spill dates are in the year 2023: [ True]\n"
     ]
    },
    {
     "name": "stderr",
     "output_type": "stream",
     "text": [
      "/tmp/ipykernel_1587065/783478359.py:2: SettingWithCopyWarning: \n",
      "A value is trying to be set on a copy of a slice from a DataFrame.\n",
      "Try using .loc[row_indexer,col_indexer] = value instead\n",
      "\n",
      "See the caveats in the documentation: https://pandas.pydata.org/pandas-docs/stable/user_guide/indexing.html#returning-a-view-versus-a-copy\n",
      "  petr_23['spill_date'] = pd.to_datetime(petr_23['spill_date'])\n"
     ]
    }
   ],
   "source": [
    "# convert spill_date to a dt\n",
    "petr_23['spill_date'] = pd.to_datetime(petr_23['spill_date'])\n",
    "\n",
    "# check if all data is from 2023\n",
    "only_2023 = (petr_23.spill_date.dt.year.unique() == [2023])\n",
    "\n",
    "# display results whether data is from only 2023\n",
    "print(\"All spill dates are in the year 2023:\", only_2023)\n"
   ]
  },
  {
   "cell_type": "markdown",
   "metadata": {},
   "source": [
    "4. Verify that `petr_23` only has data from January to October. "
   ]
  },
  {
   "cell_type": "code",
   "execution_count": 11,
   "metadata": {
    "tags": []
   },
   "outputs": [
    {
     "name": "stdout",
     "output_type": "stream",
     "text": [
      "All spill dates are from January to October: True\n"
     ]
    }
   ],
   "source": [
    "# get the unique months in the dataframe\n",
    "unique_months = petr_23.spill_date.dt.month.unique()\n",
    "\n",
    "# check if all  months are within January to October \n",
    "is_j_to_o = all(month in range(1, 11) for month in unique_months)\n",
    "\n",
    "# display whether months in the data are in the correct range of January to October\n",
    "print(\"All spill dates are from January to October:\", is_j_to_o)\n"
   ]
  },
  {
   "cell_type": "markdown",
   "metadata": {},
   "source": [
    "### Data aggregation\n",
    "\n",
    "Create new dataframe named `spills_per_county` with the number of petroleum spills per county from January to October 2023 (i.e. use the `petr_23` dataframe).\n",
    "\n",
    "The resulting `spills_per_county` dataframe must be as follows:\n",
    "\n",
    "- Index: integer numbers starting from 0\n",
    "- Column one: county names, column name = `county`\n",
    "- Column two: number of petroleum spills per county in 2023, column name = `n_spills`\n",
    "\n",
    "You may add cells if you needed."
   ]
  },
  {
   "cell_type": "code",
   "execution_count": 12,
   "metadata": {
    "tags": []
   },
   "outputs": [
    {
     "name": "stdout",
     "output_type": "stream",
     "text": [
      "                   county  n_spills\n",
      "0                  Albany        15\n",
      "1                Allegany         1\n",
      "2                   Bronx         8\n",
      "3                  Broome         7\n",
      "4             Cattaraugus         6\n",
      "5              Chautauqua         1\n",
      "6                 Chemung         2\n",
      "7                Chenango         4\n",
      "8                 Clinton         6\n",
      "9                Columbia         4\n",
      "10               Cortland         1\n",
      "11               Delaware         2\n",
      "12               Dutchess         8\n",
      "13                   Erie        17\n",
      "14                  Essex         6\n",
      "15               Franklin         6\n",
      "16                 Fulton         1\n",
      "17                Genesee         4\n",
      "18                 Greene         2\n",
      "19               Hamilton         1\n",
      "20               Herkimer         2\n",
      "21              Jefferson         8\n",
      "22                  Kings         9\n",
      "23                  Lewis         3\n",
      "24             Livingston        15\n",
      "25                Madison         1\n",
      "26                 Monroe        15\n",
      "27             Montgomery         3\n",
      "28                 Nassau        45\n",
      "29  New Jersey - Region 2         2\n",
      "30               New York        21\n",
      "31                Niagara         9\n",
      "32                 Oneida         4\n",
      "33               Onondaga        19\n",
      "34                Ontario         3\n",
      "35                 Orange        14\n",
      "36                 Oswego         2\n",
      "37                 Otsego         2\n",
      "38                 Putnam         9\n",
      "39                 Queens        43\n",
      "40             Rensselaer         5\n",
      "41               Richmond         1\n",
      "42               Rockland         7\n",
      "43               Saratoga         6\n",
      "44            Schenectady         1\n",
      "45              Schoharie         1\n",
      "46               Schuyler         3\n",
      "47            St Lawrence         4\n",
      "48                Steuben         7\n",
      "49                Suffolk        53\n",
      "50               Sullivan         3\n",
      "51                  Tioga         4\n",
      "52               Tompkins         3\n",
      "53                 Ulster         5\n",
      "54                 Warren         1\n",
      "55             Washington         3\n",
      "56                  Wayne         4\n",
      "57            Westchester        54\n",
      "58                Wyoming         1\n"
     ]
    }
   ],
   "source": [
    "# group petr_23 by county and get the number of spills for each, reset index\n",
    "spills_per_county = petr_23.groupby('county').size().reset_index()\n",
    "\n",
    "# rename the columns of the new df\n",
    "spills_per_county.columns = ['county', 'n_spills']\n",
    "\n",
    "# display results\n",
    "print(spills_per_county)\n"
   ]
  },
  {
   "cell_type": "markdown",
   "metadata": {},
   "source": [
    "## Prepare counties data\n",
    "\n",
    "This section refers to the `counties` geodataframe. \n",
    "Check the outputs carefully, they will give you context about the next exercises.\n",
    "\n",
    "### Exploration\n",
    "\n",
    "In the next cells:\n",
    "\n",
    "1. Check the geo-dataframe's head\n",
    "2. Simplify column names as needed\n",
    "3. Check the data types of the columns\n",
    "4. Check the geo-dataframe's CRS\n",
    "5. Plot the geo-dataframe.\n",
    "\n",
    "You can add any other cells of preliminary data exploration."
   ]
  },
  {
   "cell_type": "code",
   "execution_count": 13,
   "metadata": {
    "tags": []
   },
   "outputs": [
    {
     "data": {
      "text/html": [
       "<div>\n",
       "<style scoped>\n",
       "    .dataframe tbody tr th:only-of-type {\n",
       "        vertical-align: middle;\n",
       "    }\n",
       "\n",
       "    .dataframe tbody tr th {\n",
       "        vertical-align: top;\n",
       "    }\n",
       "\n",
       "    .dataframe thead th {\n",
       "        text-align: right;\n",
       "    }\n",
       "</style>\n",
       "<table border=\"1\" class=\"dataframe\">\n",
       "  <thead>\n",
       "    <tr style=\"text-align: right;\">\n",
       "      <th></th>\n",
       "      <th>STATEFP</th>\n",
       "      <th>COUNTYFP</th>\n",
       "      <th>COUNTYNS</th>\n",
       "      <th>GEOID</th>\n",
       "      <th>NAME</th>\n",
       "      <th>NAMELSAD</th>\n",
       "      <th>LSAD</th>\n",
       "      <th>CLASSFP</th>\n",
       "      <th>MTFCC</th>\n",
       "      <th>CSAFP</th>\n",
       "      <th>CBSAFP</th>\n",
       "      <th>METDIVFP</th>\n",
       "      <th>FUNCSTAT</th>\n",
       "      <th>ALAND</th>\n",
       "      <th>AWATER</th>\n",
       "      <th>INTPTLAT</th>\n",
       "      <th>INTPTLON</th>\n",
       "      <th>geometry</th>\n",
       "    </tr>\n",
       "  </thead>\n",
       "  <tbody>\n",
       "    <tr>\n",
       "      <th>0</th>\n",
       "      <td>31</td>\n",
       "      <td>039</td>\n",
       "      <td>00835841</td>\n",
       "      <td>31039</td>\n",
       "      <td>Cuming</td>\n",
       "      <td>Cuming County</td>\n",
       "      <td>06</td>\n",
       "      <td>H1</td>\n",
       "      <td>G4020</td>\n",
       "      <td>None</td>\n",
       "      <td>None</td>\n",
       "      <td>None</td>\n",
       "      <td>A</td>\n",
       "      <td>1477644346</td>\n",
       "      <td>10691216</td>\n",
       "      <td>+41.9158651</td>\n",
       "      <td>-096.7885168</td>\n",
       "      <td>POLYGON ((-96.55515 41.91587, -96.55515 41.914...</td>\n",
       "    </tr>\n",
       "    <tr>\n",
       "      <th>1</th>\n",
       "      <td>53</td>\n",
       "      <td>069</td>\n",
       "      <td>01513275</td>\n",
       "      <td>53069</td>\n",
       "      <td>Wahkiakum</td>\n",
       "      <td>Wahkiakum County</td>\n",
       "      <td>06</td>\n",
       "      <td>H1</td>\n",
       "      <td>G4020</td>\n",
       "      <td>None</td>\n",
       "      <td>None</td>\n",
       "      <td>None</td>\n",
       "      <td>A</td>\n",
       "      <td>680980770</td>\n",
       "      <td>61564427</td>\n",
       "      <td>+46.2946377</td>\n",
       "      <td>-123.4244583</td>\n",
       "      <td>POLYGON ((-123.72755 46.26449, -123.72755 46.2...</td>\n",
       "    </tr>\n",
       "    <tr>\n",
       "      <th>2</th>\n",
       "      <td>35</td>\n",
       "      <td>011</td>\n",
       "      <td>00933054</td>\n",
       "      <td>35011</td>\n",
       "      <td>De Baca</td>\n",
       "      <td>De Baca County</td>\n",
       "      <td>06</td>\n",
       "      <td>H1</td>\n",
       "      <td>G4020</td>\n",
       "      <td>None</td>\n",
       "      <td>None</td>\n",
       "      <td>None</td>\n",
       "      <td>A</td>\n",
       "      <td>6016818946</td>\n",
       "      <td>29090018</td>\n",
       "      <td>+34.3592729</td>\n",
       "      <td>-104.3686961</td>\n",
       "      <td>POLYGON ((-104.89337 34.08894, -104.89337 34.0...</td>\n",
       "    </tr>\n",
       "    <tr>\n",
       "      <th>3</th>\n",
       "      <td>31</td>\n",
       "      <td>109</td>\n",
       "      <td>00835876</td>\n",
       "      <td>31109</td>\n",
       "      <td>Lancaster</td>\n",
       "      <td>Lancaster County</td>\n",
       "      <td>06</td>\n",
       "      <td>H1</td>\n",
       "      <td>G4020</td>\n",
       "      <td>None</td>\n",
       "      <td>None</td>\n",
       "      <td>None</td>\n",
       "      <td>A</td>\n",
       "      <td>2169272978</td>\n",
       "      <td>22847034</td>\n",
       "      <td>+40.7835474</td>\n",
       "      <td>-096.6886584</td>\n",
       "      <td>POLYGON ((-96.68493 40.52330, -96.69219 40.523...</td>\n",
       "    </tr>\n",
       "    <tr>\n",
       "      <th>4</th>\n",
       "      <td>31</td>\n",
       "      <td>129</td>\n",
       "      <td>00835886</td>\n",
       "      <td>31129</td>\n",
       "      <td>Nuckolls</td>\n",
       "      <td>Nuckolls County</td>\n",
       "      <td>06</td>\n",
       "      <td>H1</td>\n",
       "      <td>G4020</td>\n",
       "      <td>None</td>\n",
       "      <td>None</td>\n",
       "      <td>None</td>\n",
       "      <td>A</td>\n",
       "      <td>1489645185</td>\n",
       "      <td>1718484</td>\n",
       "      <td>+40.1764918</td>\n",
       "      <td>-098.0468422</td>\n",
       "      <td>POLYGON ((-98.27370 40.11840, -98.27374 40.122...</td>\n",
       "    </tr>\n",
       "  </tbody>\n",
       "</table>\n",
       "</div>"
      ],
      "text/plain": [
       "  STATEFP COUNTYFP  COUNTYNS  GEOID       NAME          NAMELSAD LSAD CLASSFP  \\\n",
       "0      31      039  00835841  31039     Cuming     Cuming County   06      H1   \n",
       "1      53      069  01513275  53069  Wahkiakum  Wahkiakum County   06      H1   \n",
       "2      35      011  00933054  35011    De Baca    De Baca County   06      H1   \n",
       "3      31      109  00835876  31109  Lancaster  Lancaster County   06      H1   \n",
       "4      31      129  00835886  31129   Nuckolls   Nuckolls County   06      H1   \n",
       "\n",
       "   MTFCC CSAFP CBSAFP METDIVFP FUNCSTAT       ALAND    AWATER     INTPTLAT  \\\n",
       "0  G4020  None   None     None        A  1477644346  10691216  +41.9158651   \n",
       "1  G4020  None   None     None        A   680980770  61564427  +46.2946377   \n",
       "2  G4020  None   None     None        A  6016818946  29090018  +34.3592729   \n",
       "3  G4020  None   None     None        A  2169272978  22847034  +40.7835474   \n",
       "4  G4020  None   None     None        A  1489645185   1718484  +40.1764918   \n",
       "\n",
       "       INTPTLON                                           geometry  \n",
       "0  -096.7885168  POLYGON ((-96.55515 41.91587, -96.55515 41.914...  \n",
       "1  -123.4244583  POLYGON ((-123.72755 46.26449, -123.72755 46.2...  \n",
       "2  -104.3686961  POLYGON ((-104.89337 34.08894, -104.89337 34.0...  \n",
       "3  -096.6886584  POLYGON ((-96.68493 40.52330, -96.69219 40.523...  \n",
       "4  -098.0468422  POLYGON ((-98.27370 40.11840, -98.27374 40.122...  "
      ]
     },
     "execution_count": 13,
     "metadata": {},
     "output_type": "execute_result"
    }
   ],
   "source": [
    "# check the head of counties\n",
    "counties.head(5)"
   ]
  },
  {
   "cell_type": "code",
   "execution_count": 13,
   "metadata": {
    "tags": []
   },
   "outputs": [],
   "source": [
    "# convert column names to snakecase\n",
    "counties.columns = counties.columns.str.lower().str.replace(' ','_')"
   ]
  },
  {
   "cell_type": "code",
   "execution_count": 75,
   "metadata": {
    "tags": []
   },
   "outputs": [
    {
     "data": {
      "text/plain": [
       "statefp       object\n",
       "countyfp      object\n",
       "countyns      object\n",
       "geoid         object\n",
       "name          object\n",
       "namelsad      object\n",
       "lsad          object\n",
       "classfp       object\n",
       "mtfcc         object\n",
       "csafp         object\n",
       "cbsafp        object\n",
       "metdivfp      object\n",
       "funcstat      object\n",
       "aland          int64\n",
       "awater         int64\n",
       "intptlat      object\n",
       "intptlon      object\n",
       "geometry    geometry\n",
       "dtype: object"
      ]
     },
     "execution_count": 75,
     "metadata": {},
     "output_type": "execute_result"
    }
   ],
   "source": [
    "# check datatypes of the columns\n",
    "counties.dtypes"
   ]
  },
  {
   "cell_type": "code",
   "execution_count": 16,
   "metadata": {
    "tags": []
   },
   "outputs": [
    {
     "name": "stdout",
     "output_type": "stream",
     "text": [
      "CRS: epsg:4269\n"
     ]
    }
   ],
   "source": [
    "# check the geodataframes CRS\n",
    "print(\"CRS:\", counties.crs)"
   ]
  },
  {
   "cell_type": "code",
   "execution_count": 76,
   "metadata": {
    "tags": []
   },
   "outputs": [
    {
     "data": {
      "text/plain": [
       "<AxesSubplot:>"
      ]
     },
     "execution_count": 76,
     "metadata": {},
     "output_type": "execute_result"
    },
    {
     "data": {
      "image/png": "[encoded data removed]",
      "text/plain": [
       "<Figure size 640x480 with 1 Axes>"
      ]
     },
     "metadata": {},
     "output_type": "display_data"
    }
   ],
   "source": [
    "# plot the geodataframe\n",
    "counties.plot()"
   ]
  },
  {
   "cell_type": "markdown",
   "metadata": {},
   "source": [
    "### Data selection\n",
    "\n",
    "Select all the counties for the state of New York in a new variable `ny_counties` and plot them. HINT: to find which counties correspond to NY, look at the metadata."
   ]
  },
  {
   "cell_type": "code",
   "execution_count": 14,
   "metadata": {
    "tags": []
   },
   "outputs": [
    {
     "data": {
      "text/plain": [
       "<AxesSubplot:>"
      ]
     },
     "execution_count": 14,
     "metadata": {},
     "output_type": "execute_result"
    },
    {
     "data": {
      "image/png": "[encoded data removed]",
      "text/plain": [
       "<Figure size 640x480 with 1 Axes>"
      ]
     },
     "metadata": {},
     "output_type": "display_data"
    }
   ],
   "source": [
    "# filter for New York counties using the FIPS code\n",
    "ny_counties = counties[counties['statefp'] == '36']\n",
    "\n",
    "# plot the New York counties\n",
    "ny_counties.plot()\n"
   ]
  },
  {
   "cell_type": "markdown",
   "metadata": {},
   "source": [
    "## Merging\n",
    "\n",
    "The goal of this section is to create a single dataframe with the number of spills per county and the corresponding geometries for each county.\n",
    "\n",
    "### Explore data\n",
    "\n",
    "In the next cells:\n",
    "\n",
    "1. Print the names of counties in `ny_counties`, without repetition.\n",
    "2. Print the names of counties in `spills_per_county`, without repetition. (Do you notice anything?)\n",
    "3. Use the [`numpy` function `setdiff1d()`](https://numpy.org/doc/stable/reference/generated/numpy.setdiff1d.html) to find the county names that are in `spills_per_county`, but not in `ny_counties`. HINT: pay attention to the example in the documentation.\n",
    "4. Find the county names that are in `ny_counties`, but not in `spills_per_county`.\n",
    "5. Check the number of spills in 'Tuscarora Indian Reservation'.\n"
   ]
  },
  {
   "cell_type": "code",
   "execution_count": 19,
   "metadata": {
    "tags": []
   },
   "outputs": [
    {
     "name": "stdout",
     "output_type": "stream",
     "text": [
      "Unique counties in ny_counties:\n",
      " ['Steuben' 'Saratoga' 'Allegany' 'Oswego' 'Ulster' 'St. Lawrence'\n",
      " 'Schuyler' 'Essex' 'Suffolk' 'Hamilton' 'Dutchess' 'Otsego' 'Tompkins'\n",
      " 'Albany' 'Cayuga' 'Greene' 'Herkimer' 'Warren' 'Jefferson' 'Clinton'\n",
      " 'Nassau' 'Madison' 'Washington' 'Westchester' 'Lewis' 'Ontario'\n",
      " 'Cortland' 'Richmond' 'Erie' 'Putnam' 'Montgomery' 'Sullivan' 'Orleans'\n",
      " 'Oneida' 'Cattaraugus' 'Yates' 'Tioga' 'Monroe' 'Schoharie' 'Broome'\n",
      " 'Rensselaer' 'Seneca' 'Queens' 'Genesee' 'Wayne' 'Niagara' 'Kings'\n",
      " 'Chemung' 'Wyoming' 'New York' 'Columbia' 'Chautauqua' 'Franklin'\n",
      " 'Onondaga' 'Chenango' 'Fulton' 'Rockland' 'Livingston' 'Delaware'\n",
      " 'Orange' 'Schenectady' 'Bronx']\n"
     ]
    }
   ],
   "source": [
    "# print the names of counties in ny_counties using unique() function\n",
    "print(\"Unique counties in ny_counties:\\n\", ny_counties['name'].unique())"
   ]
  },
  {
   "cell_type": "code",
   "execution_count": 20,
   "metadata": {
    "tags": []
   },
   "outputs": [
    {
     "name": "stdout",
     "output_type": "stream",
     "text": [
      "Unique counties in spills_per_county:\n",
      " ['Albany' 'Allegany' 'Bronx' 'Broome' 'Cattaraugus' 'Chautauqua' 'Chemung'\n",
      " 'Chenango' 'Clinton' 'Columbia' 'Cortland' 'Delaware' 'Dutchess' 'Erie'\n",
      " 'Essex' 'Franklin' 'Fulton' 'Genesee' 'Greene' 'Hamilton' 'Herkimer'\n",
      " 'Jefferson' 'Kings' 'Lewis' 'Livingston' 'Madison' 'Monroe' 'Montgomery'\n",
      " 'Nassau' 'New Jersey - Region 2' 'New York' 'Niagara' 'Oneida' 'Onondaga'\n",
      " 'Ontario' 'Orange' 'Oswego' 'Otsego' 'Putnam' 'Queens' 'Rensselaer'\n",
      " 'Richmond' 'Rockland' 'Saratoga' 'Schenectady' 'Schoharie' 'Schuyler'\n",
      " 'St Lawrence' 'Steuben' 'Suffolk' 'Sullivan' 'Tioga' 'Tompkins' 'Ulster'\n",
      " 'Warren' 'Washington' 'Wayne' 'Westchester' 'Wyoming']\n"
     ]
    }
   ],
   "source": [
    "# print the names of counties in spills_per_county using unique() function\n",
    "print(\"Unique counties in spills_per_county:\\n\", spills_per_county['county'].unique())"
   ]
  },
  {
   "cell_type": "code",
   "execution_count": 15,
   "metadata": {
    "tags": []
   },
   "outputs": [
    {
     "name": "stdout",
     "output_type": "stream",
     "text": [
      "Counties in spills_per_county but not ny_counties ['New Jersey - Region 2' 'St Lawrence']\n"
     ]
    }
   ],
   "source": [
    "# use setdif1d to find county names in spills_per_county and not ny_counties\n",
    "diff = np.setdiff1d(spills_per_county['county'], ny_counties['name'])\n",
    "print(\"Counties in spills_per_county but not ny_counties\", diff)"
   ]
  },
  {
   "cell_type": "code",
   "execution_count": 16,
   "metadata": {
    "tags": []
   },
   "outputs": [
    {
     "name": "stdout",
     "output_type": "stream",
     "text": [
      "Counties in spills_per_county but not ny_counties ['Cayuga' 'Orleans' 'Seneca' 'St. Lawrence' 'Yates']\n"
     ]
    }
   ],
   "source": [
    "# use setdif1d to find county names in ny_counties and not spills_per_county \n",
    "diff = np.setdiff1d(ny_counties['name'], spills_per_county['county'])\n",
    "print(\"Counties in spills_per_county but not ny_counties\", diff)"
   ]
  },
  {
   "cell_type": "code",
   "execution_count": 17,
   "metadata": {
    "tags": []
   },
   "outputs": [
    {
     "name": "stdout",
     "output_type": "stream",
     "text": [
      "Oops! Tuscarora Indian Reservation not in spills_per_county.\n"
     ]
    }
   ],
   "source": [
    "# check number of spills in Tuescarora \n",
    "# find this data cell\n",
    "tuscarora_spills = spills_per_county[spills_per_county['county'] == 'Tuscarora Indian Reservation']['n_spills']\n",
    "\n",
    "# display results\n",
    "if not tuscarora_spills.empty:\n",
    "    print(\"Number of spills in Tuscarora Indian Reservation:\")\n",
    "    print(tuscarora_spills.iloc[0])\n",
    "else:\n",
    "    print(\"Oops! Tuscarora Indian Reservation not in spills_per_county.\")\n"
   ]
  },
  {
   "cell_type": "markdown",
   "metadata": {},
   "source": [
    "### Data updates\n",
    "\n",
    "In this section we will update 'St Lawrence' to 'St. Lawrence' in `spills_per_county` data frame.\n",
    "\n",
    "In the next cells:\n",
    "1. Check the row in `spills_per_county` that has 'St Lawrence'\n",
    "2. Run the code and read the explanation in the comments\n",
    "3. Run the code and read the explanation in the comments\n",
    "4. Use the `st_lawrence_index` and `at` to update St Lawrence name in `spills_per_county` dataframe\n",
    "5. Check the update was successfull"
   ]
  },
  {
   "cell_type": "code",
   "execution_count": 18,
   "metadata": {
    "tags": []
   },
   "outputs": [
    {
     "name": "stdout",
     "output_type": "stream",
     "text": [
      "         county  n_spills\n",
      "47  St Lawrence         4\n"
     ]
    }
   ],
   "source": [
    "# find the row of 'St Lawrence' in spills_per_county\n",
    "print(spills_per_county[spills_per_county['county'] == 'St Lawrence'])\n"
   ]
  },
  {
   "cell_type": "code",
   "execution_count": 19,
   "metadata": {
    "tags": []
   },
   "outputs": [
    {
     "data": {
      "text/plain": [
       "Int64Index([47], dtype='int64')"
      ]
     },
     "execution_count": 19,
     "metadata": {},
     "output_type": "execute_result"
    }
   ],
   "source": [
    "# 2. we can get the index of that single row like this, to access the actual row index...\n",
    "spills_per_county[spills_per_county.county=='St Lawrence'].index"
   ]
  },
  {
   "cell_type": "code",
   "execution_count": 20,
   "metadata": {
    "tags": []
   },
   "outputs": [
    {
     "data": {
      "text/plain": [
       "47"
      ]
     },
     "execution_count": 20,
     "metadata": {},
     "output_type": "execute_result"
    }
   ],
   "source": [
    "# 3. we need to select the first item in that tuple using [0]\n",
    "st_lawrence_index = spills_per_county[spills_per_county.county=='St Lawrence'].index[0]\n",
    "st_lawrence_index"
   ]
  },
  {
   "cell_type": "code",
   "execution_count": 21,
   "metadata": {
    "tags": []
   },
   "outputs": [],
   "source": [
    "# update county column at st_lawrence_index to 'St. Lawrence'\n",
    "spills_per_county.at[st_lawrence_index, 'county'] = 'St. Lawrence'"
   ]
  },
  {
   "cell_type": "code",
   "execution_count": 22,
   "metadata": {
    "tags": []
   },
   "outputs": [
    {
     "name": "stdout",
     "output_type": "stream",
     "text": [
      "county      St. Lawrence\n",
      "n_spills               4\n",
      "Name: 47, dtype: object\n"
     ]
    }
   ],
   "source": [
    "# check that the update to 'St. Lawrence' worked\n",
    "print(spills_per_county.loc[st_lawrence_index])"
   ]
  },
  {
   "cell_type": "markdown",
   "metadata": {},
   "source": [
    "### Merge\n",
    "\n",
    "In the following cells:\n",
    "1. Use this cell to make any other updates needed for making an inner join of the `spills_per_county` and `ny_counties`. \n",
    "2. Over-write `ny_counties` as the  inner join of the `spills_per_county` and `ny_counties` dataframes.\n",
    "\n",
    "From our previous exploration we know that Tuscarora Indian Reservation will not be in the join. Tuscarora Indian Reservation is located within Niagara county. \n",
    "\n",
    "3. Since the Tuscarora Indian Reservation does not appear in the `ny_counties` dataframe, add one spill to Niagara county. We will add a note about this in our final map. Add the cells you need to make this update **and** verify that the dataframe was updated."
   ]
  },
  {
   "cell_type": "code",
   "execution_count": 23,
   "metadata": {
    "tags": []
   },
   "outputs": [
    {
     "name": "stdout",
     "output_type": "stream",
     "text": [
      "Dataset have the same counties: False\n"
     ]
    }
   ],
   "source": [
    "# remove 'Yates' from ny_counties since it is not in spills_per_country\n",
    "ny_counties = ny_counties[ny_counties['name'] != 'Yates']\n",
    "\n",
    "# remove 'New Jersey - Region 2' from spills_per_county\n",
    "spills_per_county = spills_per_county[spills_per_county['county'] != 'New Jersey - Region 2']\n",
    "\n",
    "# sort and get unique values for both datasets\n",
    "ny_counties_organized = sorted(ny_counties['name'].unique())\n",
    "spills_per_county_organized = sorted(spills_per_county['county'].unique())\n",
    "\n",
    "# Compare the sorted unique values\n",
    "print(\"Dataset have the same counties:\", ny_counties_organized == spills_per_county_organized)"
   ]
  },
  {
   "cell_type": "code",
   "execution_count": 24,
   "metadata": {
    "tags": []
   },
   "outputs": [],
   "source": [
    "# perform inner join of datasets\n",
    "ny_counties = gpd.GeoDataFrame(spills_per_county.merge(ny_counties, how='inner', left_on='county', right_on='name'))\n"
   ]
  },
  {
   "cell_type": "code",
   "execution_count": 25,
   "metadata": {
    "tags": []
   },
   "outputs": [
    {
     "name": "stdout",
     "output_type": "stream",
     "text": [
      "Updated number of spills for Niagara county: 10\n"
     ]
    }
   ],
   "source": [
    "# find index of Niagara county\n",
    "niagara_index = ny_counties[ny_counties['name'] == 'Niagara'].index[0]\n",
    "\n",
    "# add one spill to n_spills for Niagara county\n",
    "ny_counties.at[niagara_index, 'n_spills'] += 1\n",
    "\n",
    "# confirm results\n",
    "new_spills = ny_counties.loc[niagara_index, 'n_spills']\n",
    "print(\"Updated number of spills for Niagara county:\", new_spills)\n"
   ]
  },
  {
   "cell_type": "markdown",
   "metadata": {},
   "source": [
    "## Map\n",
    "Create a choropleth map of the number of petroleum spills per county in the state of New York in 2023. \n",
    "Your map should have (at least) the following updates:\n",
    "- a legend indicating the number of spills\n",
    "- an updated color map\n",
    "- a title \n",
    "- no axis\n",
    "- an annotation with the data source (New York State Department of Environmental Conservation), date of access HINT: check the graph we did for power plants, \n",
    "- an annotation indicating one spill occurred in Tuscarora Indian Reservation within Niagara county"
   ]
  },
  {
   "cell_type": "markdown",
   "metadata": {},
   "source": [
    "Tuscarora Indian Reservation in Niagara county"
   ]
  },
  {
   "cell_type": "code",
   "execution_count": 26,
   "metadata": {
    "tags": []
   },
   "outputs": [
    {
     "data": {
      "image/png": "[encoded data removed]",
      "text/plain": [
       "<Figure size 1200x800 with 2 Axes>"
      ]
     },
     "metadata": {},
     "output_type": "display_data"
    }
   ],
   "source": [
    "fig, ax = plt.subplots(figsize =(12,8))\n",
    "\n",
    "ny_counties.plot(ax=ax,\n",
    "                 column='n_spills',   \n",
    "                 cmap='OrRd',         \n",
    "                 legend=True,        \n",
    "                 edgecolor='0.7')     \n",
    "\n",
    "ax.axis('off')\n",
    "\n",
    "ax.set_title('Petroleum Spills per County in New York State (2023)', fontdict={'fontsize': '16', 'fontweight' : '3'})\n",
    "\n",
    "ax.annotate('Data source: New York State Department of Environmental Conservation\\nDate of access: 10/08/23',\n",
    "            xy=(0.1, .18), xycoords='figure fraction', horizontalalignment='left',\n",
    "            fontsize=7, color='#555555')\n",
    "\n",
    "ax.annotate('One additional spill occurred in\\nTuscarora Indian Reservation within Niagara County',\n",
    "            xy=(0.1, .23), xycoords='figure fraction', horizontalalignment='left',\n",
    "            fontsize=7, color='red')\n",
    "\n",
    "plt.show()\n"
   ]
  },
  {
   "cell_type": "markdown",
   "metadata": {},
   "source": [
    "## Final code\n",
    "\n",
    "Collect all the relevant code into the first blank cell of the notebook titled \"FINAL CODE\". This single cell will have the end-to-end workflow: from importing libraries and loading the data, to producing the graph. The *only* ouput of this cell should be the graph you produced in the previous exercise. For each line, add a single comment explaining what the code does."
   ]
  }
 ],
 "metadata": {
  "kernelspec": {
   "display_name": "Anaconda 3 (Base)",
   "language": "python",
   "name": "base"
  },
  "language_info": {
   "codemirror_mode": {
    "name": "ipython",
    "version": 3
   },
   "file_extension": ".py",
   "mimetype": "text/x-python",
   "name": "python",
   "nbconvert_exporter": "python",
   "pygments_lexer": "ipython3",
   "version": "3.9.13"
  },
  "vscode": {
   "interpreter": {
    "hash": "fd47fb98a7ce7f6a10c657f2a810bfb9d752313f8f3dd9c5b44bfbb724ce30e0"
   }
  }
 },
 "nbformat": 4,
 "nbformat_minor": 4
}
